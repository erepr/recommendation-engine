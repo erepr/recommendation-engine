{
 "cells": [
  {
   "cell_type": "code",
   "execution_count": 1,
   "metadata": {},
   "outputs": [],
   "source": [
    "from selenium import webdriver\n",
    "PATH = \"E:\\chromedriver.exe\"\n",
    "driver = webdriver.Chrome(PATH)"
   ]
  },
  {
   "cell_type": "code",
   "execution_count": 40,
   "metadata": {},
   "outputs": [],
   "source": [
    "driver.get('https://www.guru.com/jobs/editing-profreader/1731628')"
   ]
  },
  {
   "cell_type": "code",
   "execution_count": 41,
   "metadata": {},
   "outputs": [],
   "source": [
    "content = driver.find_element_by_css_selector('#job-details-app > div > header > div.jobHeading__left > div:nth-child(4) > div > div.jobApplicants.resp--hidden-till-large > a > em').text"
   ]
  },
  {
   "cell_type": "code",
   "execution_count": 42,
   "metadata": {},
   "outputs": [],
   "source": [
    "import re\n",
    "import time\n",
    "\n",
    "total_count = re.findall(r'\\d+', content)\n",
    "final_count = int(total_count[0])\n",
    "\n",
    "names = []\n",
    "if final_count > 0:\n",
    "    content = driver.find_element_by_css_selector('#job-details-app > div > header > div.jobHeading__left > div:nth-child(4) > div > div.jobApplicants.resp--hidden-till-large > a > em').click()\n",
    "    time.sleep(4)\n",
    "    asd = driver.find_elements_by_css_selector(\"p.identityName.rhythmMarginSmall > a\")\n",
    "    for i in asd:\n",
    "        names.append(i.get_attribute(\"text\"))"
   ]
  },
  {
   "cell_type": "code",
   "execution_count": 43,
   "metadata": {},
   "outputs": [
    {
     "data": {
      "text/plain": [
       "['Visual Content Communications',\n",
       " 'LilMar68',\n",
       " 'Most Services',\n",
       " 'Leslie Mestrow',\n",
       " 'Royal Services',\n",
       " 'Carl Raudez',\n",
       " 'Gaks',\n",
       " 'Shahid Sabir',\n",
       " 'Mehar Rizwan',\n",
       " 'Husnain7',\n",
       " 'MD. Nirob Hossain',\n",
       " 'Muhd faiwax',\n",
       " 'Mavis Owhonda',\n",
       " 'Samantha Kasun']"
      ]
     },
     "execution_count": 43,
     "metadata": {},
     "output_type": "execute_result"
    }
   ],
   "source": [
    "names"
   ]
  },
  {
   "cell_type": "code",
   "execution_count": null,
   "metadata": {},
   "outputs": [],
   "source": []
  }
 ],
 "metadata": {
  "kernelspec": {
   "display_name": "Python 3",
   "language": "python",
   "name": "python3"
  },
  "language_info": {
   "codemirror_mode": {
    "name": "ipython",
    "version": 3
   },
   "file_extension": ".py",
   "mimetype": "text/x-python",
   "name": "python",
   "nbconvert_exporter": "python",
   "pygments_lexer": "ipython3",
   "version": "3.7.3"
  }
 },
 "nbformat": 4,
 "nbformat_minor": 2
}
