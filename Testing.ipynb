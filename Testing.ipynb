{
 "cells": [
  {
   "cell_type": "code",
   "execution_count": 174,
   "metadata": {},
   "outputs": [],
   "source": [
    "import pandas as pd\n",
    "import numpy as np\n",
    "import csv\n",
    "import matplotlib.pyplot as plt\n",
    "%matplotlib inline\n",
    "import seaborn as sns\n",
    "from sklearn.preprocessing import StandardScaler, normalize\n",
    "from sklearn.cluster import KMeans\n",
    "from sklearn.cluster import AgglomerativeClustering \n",
    "import scipy.cluster.hierarchy as shc\n",
    "from yellowbrick.cluster.silhouette import SilhouetteVisualizer\n",
    "from sklearn.metrics import silhouette_samples, silhouette_score\n",
    "import cufflinks as cf\n",
    "from sklearn.decomposition import PCA\n",
    "from pycaret.clustering import *\n",
    "from sklearn.preprocessing import OrdinalEncoder\n",
    "from sklearn.preprocessing import OneHotEncoder\n",
    "\n",
    "import warnings\n",
    "warnings.filterwarnings('ignore')"
   ]
  },
  {
   "cell_type": "code",
   "execution_count": 149,
   "metadata": {},
   "outputs": [
    {
     "name": "stdout",
     "output_type": "stream",
     "text": [
      "(2682, 22)\n"
     ]
    },
    {
     "data": {
      "text/html": [
       "<div>\n",
       "<style scoped>\n",
       "    .dataframe tbody tr th:only-of-type {\n",
       "        vertical-align: middle;\n",
       "    }\n",
       "\n",
       "    .dataframe tbody tr th {\n",
       "        vertical-align: top;\n",
       "    }\n",
       "\n",
       "    .dataframe thead th {\n",
       "        text-align: right;\n",
       "    }\n",
       "</style>\n",
       "<table border=\"1\" class=\"dataframe\">\n",
       "  <thead>\n",
       "    <tr style=\"text-align: right;\">\n",
       "      <th></th>\n",
       "      <th>Unnamed: 0</th>\n",
       "      <th>Created_date</th>\n",
       "      <th>Due_date</th>\n",
       "      <th>Job_id</th>\n",
       "      <th>Payment_type</th>\n",
       "      <th>Budget</th>\n",
       "      <th>Job_title</th>\n",
       "      <th>Category</th>\n",
       "      <th>Subcategory</th>\n",
       "      <th>Job_description</th>\n",
       "      <th>...</th>\n",
       "      <th>Link_of_employer</th>\n",
       "      <th>Employer_id</th>\n",
       "      <th>No_of_quotes</th>\n",
       "      <th>Link_of_quoters</th>\n",
       "      <th>No_of_Premium_quotes</th>\n",
       "      <th>Link_of_premium_quoters</th>\n",
       "      <th>No_of_inviited</th>\n",
       "      <th>Link_of_invited_freelancers</th>\n",
       "      <th>No_of_Hired</th>\n",
       "      <th>Link_of_hired_freelancers</th>\n",
       "    </tr>\n",
       "  </thead>\n",
       "  <tbody>\n",
       "    <tr>\n",
       "      <th>0</th>\n",
       "      <td>0</td>\n",
       "      <td>December 04, 2020</td>\n",
       "      <td>January 02, 2021</td>\n",
       "      <td>1737898</td>\n",
       "      <td>Fixed Price</td>\n",
       "      <td>[' $5k-$10k']</td>\n",
       "      <td>Looking for \"NetSuite\" Part-Time Trainer</td>\n",
       "      <td>Education &amp; Training</td>\n",
       "      <td>Information Technology</td>\n",
       "      <td>Currently, we are Looking for \"Oracle Netsuite...</td>\n",
       "      <td>...</td>\n",
       "      <td>https://www.guru.com/work/detail/1737898</td>\n",
       "      <td>1737898</td>\n",
       "      <td>0</td>\n",
       "      <td>[]</td>\n",
       "      <td>0</td>\n",
       "      <td>[]</td>\n",
       "      <td>14</td>\n",
       "      <td>['https://www.guru.com/freelancers/netsuite-fr...</td>\n",
       "      <td>0</td>\n",
       "      <td>[]</td>\n",
       "    </tr>\n",
       "    <tr>\n",
       "      <th>1</th>\n",
       "      <td>1</td>\n",
       "      <td>December 04, 2020</td>\n",
       "      <td>December 11, 2020</td>\n",
       "      <td>1737897</td>\n",
       "      <td>Fixed Price</td>\n",
       "      <td>[' Under $250']</td>\n",
       "      <td>developing app for language translator</td>\n",
       "      <td>Programming &amp; Development</td>\n",
       "      <td>Web Development &amp; Design</td>\n",
       "      <td>Need an app to convert a youtube script from o...</td>\n",
       "      <td>...</td>\n",
       "      <td>https://www.guru.com/work/detail/1737897</td>\n",
       "      <td>1737897</td>\n",
       "      <td>0</td>\n",
       "      <td>[]</td>\n",
       "      <td>0</td>\n",
       "      <td>[]</td>\n",
       "      <td>0</td>\n",
       "      <td>[]</td>\n",
       "      <td>0</td>\n",
       "      <td>[]</td>\n",
       "    </tr>\n",
       "    <tr>\n",
       "      <th>2</th>\n",
       "      <td>2</td>\n",
       "      <td>December 04, 2020</td>\n",
       "      <td>January 02, 2021</td>\n",
       "      <td>1737894</td>\n",
       "      <td>Fixed Price or Hourly</td>\n",
       "      <td>[]</td>\n",
       "      <td>React Js Developers Needed</td>\n",
       "      <td>Programming &amp; Development</td>\n",
       "      <td>Web Development &amp; Design</td>\n",
       "      <td>Hi,\\nI need 2 React js developers having atlea...</td>\n",
       "      <td>...</td>\n",
       "      <td>https://www.guru.com/work/detail/1737894</td>\n",
       "      <td>1737894</td>\n",
       "      <td>20</td>\n",
       "      <td>['https://www.guru.com/freelancers/yao-tingche...</td>\n",
       "      <td>1</td>\n",
       "      <td>['https://www.guru.com/freelancers/yao-tingchen']</td>\n",
       "      <td>0</td>\n",
       "      <td>[]</td>\n",
       "      <td>0</td>\n",
       "      <td>[]</td>\n",
       "    </tr>\n",
       "    <tr>\n",
       "      <th>3</th>\n",
       "      <td>3</td>\n",
       "      <td>December 04, 2020</td>\n",
       "      <td>January 02, 2021</td>\n",
       "      <td>1737895</td>\n",
       "      <td>Fixed Price</td>\n",
       "      <td>[' Under $250']</td>\n",
       "      <td>I have minimal issues with my website</td>\n",
       "      <td>Programming &amp; Development</td>\n",
       "      <td>Web Development &amp; Design</td>\n",
       "      <td>Hello there, \\n\\nIt's vue larvel website, it's...</td>\n",
       "      <td>...</td>\n",
       "      <td>https://www.guru.com/work/detail/1737895</td>\n",
       "      <td>1737895</td>\n",
       "      <td>13</td>\n",
       "      <td>['https://www.guru.com/freelancers/amazon-soft...</td>\n",
       "      <td>0</td>\n",
       "      <td>[]</td>\n",
       "      <td>3</td>\n",
       "      <td>['https://www.guru.com/freelancers/ahmed-s-hel...</td>\n",
       "      <td>0</td>\n",
       "      <td>[]</td>\n",
       "    </tr>\n",
       "    <tr>\n",
       "      <th>4</th>\n",
       "      <td>4</td>\n",
       "      <td>December 04, 2020</td>\n",
       "      <td>January 02, 2021</td>\n",
       "      <td>1737892</td>\n",
       "      <td>Fixed Price</td>\n",
       "      <td>[' $500-$1k']</td>\n",
       "      <td>Wordpress Site Customization</td>\n",
       "      <td>Programming &amp; Development</td>\n",
       "      <td>Web Development &amp; Design</td>\n",
       "      <td>PLEASE DO NOT RESPOND TO THIS PROJECT WITH A C...</td>\n",
       "      <td>...</td>\n",
       "      <td>https://www.guru.com/work/detail/1737892</td>\n",
       "      <td>1737892</td>\n",
       "      <td>13</td>\n",
       "      <td>['https://www.guru.com/freelancers/amazon-soft...</td>\n",
       "      <td>0</td>\n",
       "      <td>[]</td>\n",
       "      <td>0</td>\n",
       "      <td>[]</td>\n",
       "      <td>0</td>\n",
       "      <td>[]</td>\n",
       "    </tr>\n",
       "  </tbody>\n",
       "</table>\n",
       "<p>5 rows × 22 columns</p>\n",
       "</div>"
      ],
      "text/plain": [
       "   Unnamed: 0       Created_date           Due_date   Job_id  \\\n",
       "0           0  December 04, 2020   January 02, 2021  1737898   \n",
       "1           1  December 04, 2020  December 11, 2020  1737897   \n",
       "2           2  December 04, 2020   January 02, 2021  1737894   \n",
       "3           3  December 04, 2020   January 02, 2021  1737895   \n",
       "4           4  December 04, 2020   January 02, 2021  1737892   \n",
       "\n",
       "            Payment_type           Budget  \\\n",
       "0            Fixed Price    [' $5k-$10k']   \n",
       "1            Fixed Price  [' Under $250']   \n",
       "2  Fixed Price or Hourly               []   \n",
       "3            Fixed Price  [' Under $250']   \n",
       "4            Fixed Price    [' $500-$1k']   \n",
       "\n",
       "                                  Job_title                   Category  \\\n",
       "0  Looking for \"NetSuite\" Part-Time Trainer       Education & Training   \n",
       "1    developing app for language translator  Programming & Development   \n",
       "2                React Js Developers Needed  Programming & Development   \n",
       "3     I have minimal issues with my website  Programming & Development   \n",
       "4              Wordpress Site Customization  Programming & Development   \n",
       "\n",
       "                 Subcategory  \\\n",
       "0     Information Technology   \n",
       "1   Web Development & Design   \n",
       "2   Web Development & Design   \n",
       "3   Web Development & Design   \n",
       "4   Web Development & Design   \n",
       "\n",
       "                                     Job_description  ...  \\\n",
       "0  Currently, we are Looking for \"Oracle Netsuite...  ...   \n",
       "1  Need an app to convert a youtube script from o...  ...   \n",
       "2  Hi,\\nI need 2 React js developers having atlea...  ...   \n",
       "3  Hello there, \\n\\nIt's vue larvel website, it's...  ...   \n",
       "4  PLEASE DO NOT RESPOND TO THIS PROJECT WITH A C...  ...   \n",
       "\n",
       "                           Link_of_employer Employer_id No_of_quotes  \\\n",
       "0  https://www.guru.com/work/detail/1737898     1737898            0   \n",
       "1  https://www.guru.com/work/detail/1737897     1737897            0   \n",
       "2  https://www.guru.com/work/detail/1737894     1737894           20   \n",
       "3  https://www.guru.com/work/detail/1737895     1737895           13   \n",
       "4  https://www.guru.com/work/detail/1737892     1737892           13   \n",
       "\n",
       "                                     Link_of_quoters  No_of_Premium_quotes  \\\n",
       "0                                                 []                     0   \n",
       "1                                                 []                     0   \n",
       "2  ['https://www.guru.com/freelancers/yao-tingche...                     1   \n",
       "3  ['https://www.guru.com/freelancers/amazon-soft...                     0   \n",
       "4  ['https://www.guru.com/freelancers/amazon-soft...                     0   \n",
       "\n",
       "                             Link_of_premium_quoters  No_of_inviited  \\\n",
       "0                                                 []              14   \n",
       "1                                                 []               0   \n",
       "2  ['https://www.guru.com/freelancers/yao-tingchen']               0   \n",
       "3                                                 []               3   \n",
       "4                                                 []               0   \n",
       "\n",
       "                         Link_of_invited_freelancers  No_of_Hired  \\\n",
       "0  ['https://www.guru.com/freelancers/netsuite-fr...            0   \n",
       "1                                                 []            0   \n",
       "2                                                 []            0   \n",
       "3  ['https://www.guru.com/freelancers/ahmed-s-hel...            0   \n",
       "4                                                 []            0   \n",
       "\n",
       "  Link_of_hired_freelancers  \n",
       "0                        []  \n",
       "1                        []  \n",
       "2                        []  \n",
       "3                        []  \n",
       "4                        []  \n",
       "\n",
       "[5 rows x 22 columns]"
      ]
     },
     "execution_count": 149,
     "metadata": {},
     "output_type": "execute_result"
    }
   ],
   "source": [
    "df = pd.read_csv(\"jobs.csv\")\n",
    "print(df.shape)\n",
    "df.head()"
   ]
  },
  {
   "cell_type": "markdown",
   "metadata": {},
   "source": [
    "### Goal\n",
    "\n",
    "✔ Category\n",
    "\n",
    "✔ Payment/Budget - Will be a derived one and will need to use imputation as well. - KNN Imputer"
   ]
  },
  {
   "cell_type": "code",
   "execution_count": 150,
   "metadata": {},
   "outputs": [
    {
     "data": {
      "text/html": [
       "<div>\n",
       "<style scoped>\n",
       "    .dataframe tbody tr th:only-of-type {\n",
       "        vertical-align: middle;\n",
       "    }\n",
       "\n",
       "    .dataframe tbody tr th {\n",
       "        vertical-align: top;\n",
       "    }\n",
       "\n",
       "    .dataframe thead th {\n",
       "        text-align: right;\n",
       "    }\n",
       "</style>\n",
       "<table border=\"1\" class=\"dataframe\">\n",
       "  <thead>\n",
       "    <tr style=\"text-align: right;\">\n",
       "      <th></th>\n",
       "      <th>Budget</th>\n",
       "      <th>Category</th>\n",
       "    </tr>\n",
       "  </thead>\n",
       "  <tbody>\n",
       "    <tr>\n",
       "      <th>0</th>\n",
       "      <td>[' $5k-$10k']</td>\n",
       "      <td>Education &amp; Training</td>\n",
       "    </tr>\n",
       "    <tr>\n",
       "      <th>1</th>\n",
       "      <td>[' Under $250']</td>\n",
       "      <td>Programming &amp; Development</td>\n",
       "    </tr>\n",
       "    <tr>\n",
       "      <th>2</th>\n",
       "      <td>[]</td>\n",
       "      <td>Programming &amp; Development</td>\n",
       "    </tr>\n",
       "    <tr>\n",
       "      <th>3</th>\n",
       "      <td>[' Under $250']</td>\n",
       "      <td>Programming &amp; Development</td>\n",
       "    </tr>\n",
       "    <tr>\n",
       "      <th>4</th>\n",
       "      <td>[' $500-$1k']</td>\n",
       "      <td>Programming &amp; Development</td>\n",
       "    </tr>\n",
       "  </tbody>\n",
       "</table>\n",
       "</div>"
      ],
      "text/plain": [
       "            Budget                   Category\n",
       "0    [' $5k-$10k']       Education & Training\n",
       "1  [' Under $250']  Programming & Development\n",
       "2               []  Programming & Development\n",
       "3  [' Under $250']  Programming & Development\n",
       "4    [' $500-$1k']  Programming & Development"
      ]
     },
     "execution_count": 150,
     "metadata": {},
     "output_type": "execute_result"
    }
   ],
   "source": [
    "df2 = df[['Budget', 'Category']]\n",
    "df2.head()"
   ]
  },
  {
   "cell_type": "code",
   "execution_count": 151,
   "metadata": {},
   "outputs": [
    {
     "data": {
      "text/plain": [
       "(2682, 2)"
      ]
     },
     "execution_count": 151,
     "metadata": {},
     "output_type": "execute_result"
    }
   ],
   "source": [
    "df2.shape"
   ]
  },
  {
   "cell_type": "code",
   "execution_count": 152,
   "metadata": {},
   "outputs": [
    {
     "data": {
      "text/plain": [
       "array([7850, 2475, 5558, ..., 2529, 8529, 7686])"
      ]
     },
     "execution_count": 152,
     "metadata": {},
     "output_type": "execute_result"
    }
   ],
   "source": [
    "s = np.round(np.random.default_rng().uniform(250,10000,2682)).astype(int)\n",
    "s"
   ]
  },
  {
   "cell_type": "code",
   "execution_count": 153,
   "metadata": {},
   "outputs": [
    {
     "data": {
      "text/html": [
       "<div>\n",
       "<style scoped>\n",
       "    .dataframe tbody tr th:only-of-type {\n",
       "        vertical-align: middle;\n",
       "    }\n",
       "\n",
       "    .dataframe tbody tr th {\n",
       "        vertical-align: top;\n",
       "    }\n",
       "\n",
       "    .dataframe thead th {\n",
       "        text-align: right;\n",
       "    }\n",
       "</style>\n",
       "<table border=\"1\" class=\"dataframe\">\n",
       "  <thead>\n",
       "    <tr style=\"text-align: right;\">\n",
       "      <th></th>\n",
       "      <th>Budget</th>\n",
       "      <th>Category</th>\n",
       "    </tr>\n",
       "  </thead>\n",
       "  <tbody>\n",
       "    <tr>\n",
       "      <th>0</th>\n",
       "      <td>7850</td>\n",
       "      <td>Education &amp; Training</td>\n",
       "    </tr>\n",
       "    <tr>\n",
       "      <th>1</th>\n",
       "      <td>2475</td>\n",
       "      <td>Programming &amp; Development</td>\n",
       "    </tr>\n",
       "    <tr>\n",
       "      <th>2</th>\n",
       "      <td>5558</td>\n",
       "      <td>Programming &amp; Development</td>\n",
       "    </tr>\n",
       "    <tr>\n",
       "      <th>3</th>\n",
       "      <td>537</td>\n",
       "      <td>Programming &amp; Development</td>\n",
       "    </tr>\n",
       "    <tr>\n",
       "      <th>4</th>\n",
       "      <td>3073</td>\n",
       "      <td>Programming &amp; Development</td>\n",
       "    </tr>\n",
       "    <tr>\n",
       "      <th>...</th>\n",
       "      <td>...</td>\n",
       "      <td>...</td>\n",
       "    </tr>\n",
       "    <tr>\n",
       "      <th>2677</th>\n",
       "      <td>4199</td>\n",
       "      <td>Other</td>\n",
       "    </tr>\n",
       "    <tr>\n",
       "      <th>2678</th>\n",
       "      <td>9841</td>\n",
       "      <td>Sales &amp; Marketing</td>\n",
       "    </tr>\n",
       "    <tr>\n",
       "      <th>2679</th>\n",
       "      <td>2529</td>\n",
       "      <td>Writing &amp; Translation</td>\n",
       "    </tr>\n",
       "    <tr>\n",
       "      <th>2680</th>\n",
       "      <td>8529</td>\n",
       "      <td>Other</td>\n",
       "    </tr>\n",
       "    <tr>\n",
       "      <th>2681</th>\n",
       "      <td>7686</td>\n",
       "      <td>Design &amp; Art</td>\n",
       "    </tr>\n",
       "  </tbody>\n",
       "</table>\n",
       "<p>2682 rows × 2 columns</p>\n",
       "</div>"
      ],
      "text/plain": [
       "      Budget                   Category\n",
       "0       7850       Education & Training\n",
       "1       2475  Programming & Development\n",
       "2       5558  Programming & Development\n",
       "3        537  Programming & Development\n",
       "4       3073  Programming & Development\n",
       "...      ...                        ...\n",
       "2677    4199                      Other\n",
       "2678    9841          Sales & Marketing\n",
       "2679    2529      Writing & Translation\n",
       "2680    8529                      Other\n",
       "2681    7686               Design & Art\n",
       "\n",
       "[2682 rows x 2 columns]"
      ]
     },
     "execution_count": 153,
     "metadata": {},
     "output_type": "execute_result"
    }
   ],
   "source": [
    "temp = {'Budget': pd.Series(s),\n",
    "         'Category': df['Category']}\n",
    "\n",
    "new_df = pd.DataFrame(temp)\n",
    "new_df"
   ]
  },
  {
   "cell_type": "code",
   "execution_count": 154,
   "metadata": {},
   "outputs": [
    {
     "name": "stdout",
     "output_type": "stream",
     "text": [
      "<class 'numpy.int32'>\n",
      "<class 'str'>\n"
     ]
    }
   ],
   "source": [
    "print(type(new_df['Budget'].iloc[0]))\n",
    "print(type(new_df['Category'].iloc[0]))"
   ]
  },
  {
   "cell_type": "code",
   "execution_count": 155,
   "metadata": {},
   "outputs": [],
   "source": [
    "#instantiate both packages to use\n",
    "encoder = OrdinalEncoder()\n",
    "\n",
    "# create a list of categorical columns to iterate over\n",
    "cat_cols = ['Category']\n",
    "\n",
    "def encode(data):\n",
    "    '''function to encode non-null data and replace it in the original data'''\n",
    "    #retains only non-null values\n",
    "    nonulls = np.array(data.dropna())\n",
    "    #reshapes the data for encoding\n",
    "    impute_reshape = nonulls.reshape(-1,1)\n",
    "    #encode date\n",
    "    impute_ordinal = encoder.fit_transform(impute_reshape)\n",
    "    #Assign back encoded values to non-null values\n",
    "    data.loc[data.notnull()] = np.squeeze(impute_ordinal)\n",
    "    return data\n",
    "\n",
    "#create a for loop to iterate through each column in the data\n",
    "for columns in cat_cols:\n",
    "    encode(new_df[columns])"
   ]
  },
  {
   "cell_type": "code",
   "execution_count": 156,
   "metadata": {},
   "outputs": [
    {
     "data": {
      "text/html": [
       "<div>\n",
       "<style scoped>\n",
       "    .dataframe tbody tr th:only-of-type {\n",
       "        vertical-align: middle;\n",
       "    }\n",
       "\n",
       "    .dataframe tbody tr th {\n",
       "        vertical-align: top;\n",
       "    }\n",
       "\n",
       "    .dataframe thead th {\n",
       "        text-align: right;\n",
       "    }\n",
       "</style>\n",
       "<table border=\"1\" class=\"dataframe\">\n",
       "  <thead>\n",
       "    <tr style=\"text-align: right;\">\n",
       "      <th></th>\n",
       "      <th>Budget</th>\n",
       "      <th>Category</th>\n",
       "    </tr>\n",
       "  </thead>\n",
       "  <tbody>\n",
       "    <tr>\n",
       "      <th>0</th>\n",
       "      <td>7850</td>\n",
       "      <td>3.0</td>\n",
       "    </tr>\n",
       "    <tr>\n",
       "      <th>1</th>\n",
       "      <td>2475</td>\n",
       "      <td>7.0</td>\n",
       "    </tr>\n",
       "    <tr>\n",
       "      <th>2</th>\n",
       "      <td>5558</td>\n",
       "      <td>7.0</td>\n",
       "    </tr>\n",
       "    <tr>\n",
       "      <th>3</th>\n",
       "      <td>537</td>\n",
       "      <td>7.0</td>\n",
       "    </tr>\n",
       "    <tr>\n",
       "      <th>4</th>\n",
       "      <td>3073</td>\n",
       "      <td>7.0</td>\n",
       "    </tr>\n",
       "    <tr>\n",
       "      <th>...</th>\n",
       "      <td>...</td>\n",
       "      <td>...</td>\n",
       "    </tr>\n",
       "    <tr>\n",
       "      <th>2677</th>\n",
       "      <td>4199</td>\n",
       "      <td>6.0</td>\n",
       "    </tr>\n",
       "    <tr>\n",
       "      <th>2678</th>\n",
       "      <td>9841</td>\n",
       "      <td>8.0</td>\n",
       "    </tr>\n",
       "    <tr>\n",
       "      <th>2679</th>\n",
       "      <td>2529</td>\n",
       "      <td>9.0</td>\n",
       "    </tr>\n",
       "    <tr>\n",
       "      <th>2680</th>\n",
       "      <td>8529</td>\n",
       "      <td>6.0</td>\n",
       "    </tr>\n",
       "    <tr>\n",
       "      <th>2681</th>\n",
       "      <td>7686</td>\n",
       "      <td>2.0</td>\n",
       "    </tr>\n",
       "  </tbody>\n",
       "</table>\n",
       "<p>2682 rows × 2 columns</p>\n",
       "</div>"
      ],
      "text/plain": [
       "      Budget  Category\n",
       "0       7850       3.0\n",
       "1       2475       7.0\n",
       "2       5558       7.0\n",
       "3        537       7.0\n",
       "4       3073       7.0\n",
       "...      ...       ...\n",
       "2677    4199       6.0\n",
       "2678    9841       8.0\n",
       "2679    2529       9.0\n",
       "2680    8529       6.0\n",
       "2681    7686       2.0\n",
       "\n",
       "[2682 rows x 2 columns]"
      ]
     },
     "execution_count": 156,
     "metadata": {},
     "output_type": "execute_result"
    }
   ],
   "source": [
    "new_df"
   ]
  },
  {
   "cell_type": "code",
   "execution_count": 157,
   "metadata": {},
   "outputs": [],
   "source": [
    "df_scaled = StandardScaler().fit_transform(new_df)\n",
    "normalized_df = pd.DataFrame(df_scaled)"
   ]
  },
  {
   "cell_type": "code",
   "execution_count": 158,
   "metadata": {},
   "outputs": [
    {
     "data": {
      "text/plain": [
       "0.52"
      ]
     },
     "execution_count": 158,
     "metadata": {},
     "output_type": "execute_result"
    }
   ],
   "source": [
    "round(silhouette_score(normalized_df, KMeans(n_clusters = 4).fit_predict(normalized_df)), 2)"
   ]
  },
  {
   "cell_type": "code",
   "execution_count": 159,
   "metadata": {},
   "outputs": [],
   "source": [
    "KMeans= KMeans(4)\n",
    "KMeans.fit(normalized_df)\n",
    "labels=KMeans.labels_"
   ]
  },
  {
   "cell_type": "code",
   "execution_count": 160,
   "metadata": {},
   "outputs": [
    {
     "data": {
      "text/html": [
       "<div>\n",
       "<style scoped>\n",
       "    .dataframe tbody tr th:only-of-type {\n",
       "        vertical-align: middle;\n",
       "    }\n",
       "\n",
       "    .dataframe tbody tr th {\n",
       "        vertical-align: top;\n",
       "    }\n",
       "\n",
       "    .dataframe thead th {\n",
       "        text-align: right;\n",
       "    }\n",
       "</style>\n",
       "<table border=\"1\" class=\"dataframe\">\n",
       "  <thead>\n",
       "    <tr style=\"text-align: right;\">\n",
       "      <th></th>\n",
       "      <th>Budget</th>\n",
       "      <th>Category</th>\n",
       "      <th>cluster</th>\n",
       "    </tr>\n",
       "  </thead>\n",
       "  <tbody>\n",
       "    <tr>\n",
       "      <th>0</th>\n",
       "      <td>7850</td>\n",
       "      <td>3.0</td>\n",
       "      <td>3</td>\n",
       "    </tr>\n",
       "    <tr>\n",
       "      <th>1</th>\n",
       "      <td>2475</td>\n",
       "      <td>7.0</td>\n",
       "      <td>1</td>\n",
       "    </tr>\n",
       "    <tr>\n",
       "      <th>2</th>\n",
       "      <td>5558</td>\n",
       "      <td>7.0</td>\n",
       "      <td>2</td>\n",
       "    </tr>\n",
       "    <tr>\n",
       "      <th>3</th>\n",
       "      <td>537</td>\n",
       "      <td>7.0</td>\n",
       "      <td>1</td>\n",
       "    </tr>\n",
       "    <tr>\n",
       "      <th>4</th>\n",
       "      <td>3073</td>\n",
       "      <td>7.0</td>\n",
       "      <td>1</td>\n",
       "    </tr>\n",
       "  </tbody>\n",
       "</table>\n",
       "</div>"
      ],
      "text/plain": [
       "   Budget  Category  cluster\n",
       "0    7850       3.0        3\n",
       "1    2475       7.0        1\n",
       "2    5558       7.0        2\n",
       "3     537       7.0        1\n",
       "4    3073       7.0        1"
      ]
     },
     "execution_count": 160,
     "metadata": {},
     "output_type": "execute_result"
    }
   ],
   "source": [
    "clusters=pd.concat([new_df, pd.DataFrame({'cluster': labels})], axis=1)\n",
    "clusters.head()"
   ]
  },
  {
   "cell_type": "code",
   "execution_count": 161,
   "metadata": {},
   "outputs": [
    {
     "data": {
      "text/plain": [
       "Index(['Budget', 'Category', 'cluster'], dtype='object')"
      ]
     },
     "execution_count": 161,
     "metadata": {},
     "output_type": "execute_result"
    }
   ],
   "source": [
    "clusters.columns"
   ]
  },
  {
   "cell_type": "code",
   "execution_count": 162,
   "metadata": {},
   "outputs": [
    {
     "data": {
      "image/png": "[encoded data removed]",
      "text/plain": [
       "<Figure size 1080x360 with 1 Axes>"
      ]
     },
     "metadata": {
      "needs_background": "light"
     },
     "output_type": "display_data"
    }
   ],
   "source": [
    "(clusters[['Budget', 'Category', 'cluster']].groupby('cluster').mean().plot.bar(figsize=(15, 5)))\n",
    "plt.title('Bar Plot')\n",
    "plt.xlabel('Cluster #');"
   ]
  },
  {
   "cell_type": "code",
   "execution_count": 163,
   "metadata": {},
   "outputs": [
    {
     "name": "stdout",
     "output_type": "stream",
     "text": [
      "(2682, 2)\n"
     ]
    }
   ],
   "source": [
    "pca= PCA(n_components= 2)\n",
    "\n",
    "pca.fit(normalized_df)\n",
    "pca_features=pca.transform(normalized_df)\n",
    "\n",
    "print(pca_features.shape)\n",
    "\n",
    "pca_df = pd.DataFrame(data=pca_features,columns=['pca1','pca2'])\n",
    "\n",
    "fin_df = pd.concat([pca_df,pd.DataFrame({'cluster':labels})], axis = 1)"
   ]
  },
  {
   "cell_type": "code",
   "execution_count": 164,
   "metadata": {},
   "outputs": [
    {
     "data": {
      "image/png": "[encoded data removed]",
      "text/plain": [
       "<Figure size 1080x720 with 1 Axes>"
      ]
     },
     "metadata": {
      "needs_background": "light"
     },
     "output_type": "display_data"
    }
   ],
   "source": [
    "plt.figure(figsize=(15,10))\n",
    "sns.scatterplot(x='pca1', y='pca2', hue='cluster', data=fin_df, palette=['blue', 'green', 'red', 'yellow'])\n",
    "plt.xlabel('Principal Component 1', fontsize=13)\n",
    "plt.ylabel('Principal Component 2', fontsize=13)\n",
    "plt.show()"
   ]
  },
  {
   "cell_type": "markdown",
   "metadata": {},
   "source": [
    "### Converting budget to string"
   ]
  },
  {
   "cell_type": "code",
   "execution_count": 165,
   "metadata": {},
   "outputs": [
    {
     "data": {
      "text/html": [
       "<div>\n",
       "<style scoped>\n",
       "    .dataframe tbody tr th:only-of-type {\n",
       "        vertical-align: middle;\n",
       "    }\n",
       "\n",
       "    .dataframe tbody tr th {\n",
       "        vertical-align: top;\n",
       "    }\n",
       "\n",
       "    .dataframe thead th {\n",
       "        text-align: right;\n",
       "    }\n",
       "</style>\n",
       "<table border=\"1\" class=\"dataframe\">\n",
       "  <thead>\n",
       "    <tr style=\"text-align: right;\">\n",
       "      <th></th>\n",
       "      <th>Budget</th>\n",
       "      <th>Category</th>\n",
       "    </tr>\n",
       "  </thead>\n",
       "  <tbody>\n",
       "    <tr>\n",
       "      <th>0</th>\n",
       "      <td>7850</td>\n",
       "      <td>3.0</td>\n",
       "    </tr>\n",
       "    <tr>\n",
       "      <th>1</th>\n",
       "      <td>2475</td>\n",
       "      <td>7.0</td>\n",
       "    </tr>\n",
       "    <tr>\n",
       "      <th>2</th>\n",
       "      <td>5558</td>\n",
       "      <td>7.0</td>\n",
       "    </tr>\n",
       "    <tr>\n",
       "      <th>3</th>\n",
       "      <td>537</td>\n",
       "      <td>7.0</td>\n",
       "    </tr>\n",
       "    <tr>\n",
       "      <th>4</th>\n",
       "      <td>3073</td>\n",
       "      <td>7.0</td>\n",
       "    </tr>\n",
       "    <tr>\n",
       "      <th>...</th>\n",
       "      <td>...</td>\n",
       "      <td>...</td>\n",
       "    </tr>\n",
       "    <tr>\n",
       "      <th>2677</th>\n",
       "      <td>4199</td>\n",
       "      <td>6.0</td>\n",
       "    </tr>\n",
       "    <tr>\n",
       "      <th>2678</th>\n",
       "      <td>9841</td>\n",
       "      <td>8.0</td>\n",
       "    </tr>\n",
       "    <tr>\n",
       "      <th>2679</th>\n",
       "      <td>2529</td>\n",
       "      <td>9.0</td>\n",
       "    </tr>\n",
       "    <tr>\n",
       "      <th>2680</th>\n",
       "      <td>8529</td>\n",
       "      <td>6.0</td>\n",
       "    </tr>\n",
       "    <tr>\n",
       "      <th>2681</th>\n",
       "      <td>7686</td>\n",
       "      <td>2.0</td>\n",
       "    </tr>\n",
       "  </tbody>\n",
       "</table>\n",
       "<p>2682 rows × 2 columns</p>\n",
       "</div>"
      ],
      "text/plain": [
       "      Budget  Category\n",
       "0       7850       3.0\n",
       "1       2475       7.0\n",
       "2       5558       7.0\n",
       "3        537       7.0\n",
       "4       3073       7.0\n",
       "...      ...       ...\n",
       "2677    4199       6.0\n",
       "2678    9841       8.0\n",
       "2679    2529       9.0\n",
       "2680    8529       6.0\n",
       "2681    7686       2.0\n",
       "\n",
       "[2682 rows x 2 columns]"
      ]
     },
     "execution_count": 165,
     "metadata": {},
     "output_type": "execute_result"
    }
   ],
   "source": [
    "df3 = new_df\n",
    "df3"
   ]
  },
  {
   "cell_type": "code",
   "execution_count": 166,
   "metadata": {},
   "outputs": [
    {
     "data": {
      "text/plain": [
       "0       7850\n",
       "1       2475\n",
       "2       5558\n",
       "3        537\n",
       "4       3073\n",
       "        ... \n",
       "2677    4199\n",
       "2678    9841\n",
       "2679    2529\n",
       "2680    8529\n",
       "2681    7686\n",
       "Name: Budget, Length: 2682, dtype: object"
      ]
     },
     "execution_count": 166,
     "metadata": {},
     "output_type": "execute_result"
    }
   ],
   "source": [
    "df3['Budget'].astype(str)"
   ]
  },
  {
   "cell_type": "code",
   "execution_count": 167,
   "metadata": {},
   "outputs": [],
   "source": [
    "new_budget = [str(i) for i in df3['Budget']]"
   ]
  },
  {
   "cell_type": "code",
   "execution_count": 168,
   "metadata": {},
   "outputs": [
    {
     "name": "stdout",
     "output_type": "stream",
     "text": [
      "<class 'str'>\n"
     ]
    }
   ],
   "source": [
    "print(type(new_budget[0]))"
   ]
  },
  {
   "cell_type": "code",
   "execution_count": 169,
   "metadata": {},
   "outputs": [
    {
     "data": {
      "text/html": [
       "<div>\n",
       "<style scoped>\n",
       "    .dataframe tbody tr th:only-of-type {\n",
       "        vertical-align: middle;\n",
       "    }\n",
       "\n",
       "    .dataframe tbody tr th {\n",
       "        vertical-align: top;\n",
       "    }\n",
       "\n",
       "    .dataframe thead th {\n",
       "        text-align: right;\n",
       "    }\n",
       "</style>\n",
       "<table border=\"1\" class=\"dataframe\">\n",
       "  <thead>\n",
       "    <tr style=\"text-align: right;\">\n",
       "      <th></th>\n",
       "      <th>Budget</th>\n",
       "      <th>Category</th>\n",
       "    </tr>\n",
       "  </thead>\n",
       "  <tbody>\n",
       "    <tr>\n",
       "      <th>0</th>\n",
       "      <td>7850</td>\n",
       "      <td>Education &amp; Training</td>\n",
       "    </tr>\n",
       "    <tr>\n",
       "      <th>1</th>\n",
       "      <td>2475</td>\n",
       "      <td>Programming &amp; Development</td>\n",
       "    </tr>\n",
       "    <tr>\n",
       "      <th>2</th>\n",
       "      <td>5558</td>\n",
       "      <td>Programming &amp; Development</td>\n",
       "    </tr>\n",
       "    <tr>\n",
       "      <th>3</th>\n",
       "      <td>537</td>\n",
       "      <td>Programming &amp; Development</td>\n",
       "    </tr>\n",
       "    <tr>\n",
       "      <th>4</th>\n",
       "      <td>3073</td>\n",
       "      <td>Programming &amp; Development</td>\n",
       "    </tr>\n",
       "    <tr>\n",
       "      <th>...</th>\n",
       "      <td>...</td>\n",
       "      <td>...</td>\n",
       "    </tr>\n",
       "    <tr>\n",
       "      <th>2677</th>\n",
       "      <td>4199</td>\n",
       "      <td>Other</td>\n",
       "    </tr>\n",
       "    <tr>\n",
       "      <th>2678</th>\n",
       "      <td>9841</td>\n",
       "      <td>Sales &amp; Marketing</td>\n",
       "    </tr>\n",
       "    <tr>\n",
       "      <th>2679</th>\n",
       "      <td>2529</td>\n",
       "      <td>Writing &amp; Translation</td>\n",
       "    </tr>\n",
       "    <tr>\n",
       "      <th>2680</th>\n",
       "      <td>8529</td>\n",
       "      <td>Other</td>\n",
       "    </tr>\n",
       "    <tr>\n",
       "      <th>2681</th>\n",
       "      <td>7686</td>\n",
       "      <td>Design &amp; Art</td>\n",
       "    </tr>\n",
       "  </tbody>\n",
       "</table>\n",
       "<p>2682 rows × 2 columns</p>\n",
       "</div>"
      ],
      "text/plain": [
       "     Budget                   Category\n",
       "0      7850       Education & Training\n",
       "1      2475  Programming & Development\n",
       "2      5558  Programming & Development\n",
       "3       537  Programming & Development\n",
       "4      3073  Programming & Development\n",
       "...     ...                        ...\n",
       "2677   4199                      Other\n",
       "2678   9841          Sales & Marketing\n",
       "2679   2529      Writing & Translation\n",
       "2680   8529                      Other\n",
       "2681   7686               Design & Art\n",
       "\n",
       "[2682 rows x 2 columns]"
      ]
     },
     "execution_count": 169,
     "metadata": {},
     "output_type": "execute_result"
    }
   ],
   "source": [
    "fin = {'Budget': pd.Series(new_budget),\n",
    "      'Category': df['Category']}\n",
    "\n",
    "df4 = pd.DataFrame(fin)\n",
    "df4"
   ]
  },
  {
   "cell_type": "code",
   "execution_count": 170,
   "metadata": {},
   "outputs": [],
   "source": [
    "#instantiate both packages to use\n",
    "encoder = OrdinalEncoder()\n",
    "\n",
    "# create a list of categorical columns to iterate over\n",
    "cat_cols = ['Budget', 'Category']\n",
    "\n",
    "def encode(data):\n",
    "    '''function to encode non-null data and replace it in the original data'''\n",
    "    #retains only non-null values\n",
    "    nonulls = np.array(data.dropna())\n",
    "    #reshapes the data for encoding\n",
    "    impute_reshape = nonulls.reshape(-1,1)\n",
    "    #encode date\n",
    "    impute_ordinal = encoder.fit_transform(impute_reshape)\n",
    "    #Assign back encoded values to non-null values\n",
    "    data.loc[data.notnull()] = np.squeeze(impute_ordinal)\n",
    "    return data\n",
    "\n",
    "#create a for loop to iterate through each column in the data\n",
    "for columns in cat_cols:\n",
    "    encode(df4[columns])"
   ]
  },
  {
   "cell_type": "code",
   "execution_count": 171,
   "metadata": {},
   "outputs": [
    {
     "data": {
      "text/html": [
       "<div>\n",
       "<style scoped>\n",
       "    .dataframe tbody tr th:only-of-type {\n",
       "        vertical-align: middle;\n",
       "    }\n",
       "\n",
       "    .dataframe tbody tr th {\n",
       "        vertical-align: top;\n",
       "    }\n",
       "\n",
       "    .dataframe thead th {\n",
       "        text-align: right;\n",
       "    }\n",
       "</style>\n",
       "<table border=\"1\" class=\"dataframe\">\n",
       "  <thead>\n",
       "    <tr style=\"text-align: right;\">\n",
       "      <th></th>\n",
       "      <th>Budget</th>\n",
       "      <th>Category</th>\n",
       "    </tr>\n",
       "  </thead>\n",
       "  <tbody>\n",
       "    <tr>\n",
       "      <th>0</th>\n",
       "      <td>1785.0</td>\n",
       "      <td>3.0</td>\n",
       "    </tr>\n",
       "    <tr>\n",
       "      <th>1</th>\n",
       "      <td>363.0</td>\n",
       "      <td>7.0</td>\n",
       "    </tr>\n",
       "    <tr>\n",
       "      <th>2</th>\n",
       "      <td>1189.0</td>\n",
       "      <td>7.0</td>\n",
       "    </tr>\n",
       "    <tr>\n",
       "      <th>3</th>\n",
       "      <td>1130.0</td>\n",
       "      <td>7.0</td>\n",
       "    </tr>\n",
       "    <tr>\n",
       "      <th>4</th>\n",
       "      <td>519.0</td>\n",
       "      <td>7.0</td>\n",
       "    </tr>\n",
       "    <tr>\n",
       "      <th>...</th>\n",
       "      <td>...</td>\n",
       "      <td>...</td>\n",
       "    </tr>\n",
       "    <tr>\n",
       "      <th>2677</th>\n",
       "      <td>806.0</td>\n",
       "      <td>6.0</td>\n",
       "    </tr>\n",
       "    <tr>\n",
       "      <th>2678</th>\n",
       "      <td>2287.0</td>\n",
       "      <td>8.0</td>\n",
       "    </tr>\n",
       "    <tr>\n",
       "      <th>2679</th>\n",
       "      <td>375.0</td>\n",
       "      <td>9.0</td>\n",
       "    </tr>\n",
       "    <tr>\n",
       "      <th>2680</th>\n",
       "      <td>1964.0</td>\n",
       "      <td>6.0</td>\n",
       "    </tr>\n",
       "    <tr>\n",
       "      <th>2681</th>\n",
       "      <td>1735.0</td>\n",
       "      <td>2.0</td>\n",
       "    </tr>\n",
       "  </tbody>\n",
       "</table>\n",
       "<p>2682 rows × 2 columns</p>\n",
       "</div>"
      ],
      "text/plain": [
       "      Budget  Category\n",
       "0     1785.0       3.0\n",
       "1      363.0       7.0\n",
       "2     1189.0       7.0\n",
       "3     1130.0       7.0\n",
       "4      519.0       7.0\n",
       "...      ...       ...\n",
       "2677   806.0       6.0\n",
       "2678  2287.0       8.0\n",
       "2679   375.0       9.0\n",
       "2680  1964.0       6.0\n",
       "2681  1735.0       2.0\n",
       "\n",
       "[2682 rows x 2 columns]"
      ]
     },
     "execution_count": 171,
     "metadata": {},
     "output_type": "execute_result"
    }
   ],
   "source": [
    "df4"
   ]
  },
  {
   "cell_type": "code",
   "execution_count": 172,
   "metadata": {},
   "outputs": [],
   "source": [
    "df_scaled = StandardScaler().fit_transform(df4)\n",
    "normalized_df = pd.DataFrame(df_scaled)"
   ]
  },
  {
   "cell_type": "code",
   "execution_count": 175,
   "metadata": {},
   "outputs": [
    {
     "data": {
      "text/plain": [
       "0.52"
      ]
     },
     "execution_count": 175,
     "metadata": {},
     "output_type": "execute_result"
    }
   ],
   "source": [
    "round(silhouette_score(normalized_df, KMeans(n_clusters = 4).fit_predict(normalized_df)), 2)"
   ]
  },
  {
   "cell_type": "code",
   "execution_count": 176,
   "metadata": {},
   "outputs": [],
   "source": [
    "KMeans= KMeans(4)\n",
    "KMeans.fit(normalized_df)\n",
    "labels=KMeans.labels_"
   ]
  },
  {
   "cell_type": "code",
   "execution_count": 177,
   "metadata": {},
   "outputs": [
    {
     "data": {
      "text/html": [
       "<div>\n",
       "<style scoped>\n",
       "    .dataframe tbody tr th:only-of-type {\n",
       "        vertical-align: middle;\n",
       "    }\n",
       "\n",
       "    .dataframe tbody tr th {\n",
       "        vertical-align: top;\n",
       "    }\n",
       "\n",
       "    .dataframe thead th {\n",
       "        text-align: right;\n",
       "    }\n",
       "</style>\n",
       "<table border=\"1\" class=\"dataframe\">\n",
       "  <thead>\n",
       "    <tr style=\"text-align: right;\">\n",
       "      <th></th>\n",
       "      <th>Budget</th>\n",
       "      <th>Category</th>\n",
       "      <th>cluster</th>\n",
       "    </tr>\n",
       "  </thead>\n",
       "  <tbody>\n",
       "    <tr>\n",
       "      <th>0</th>\n",
       "      <td>1785.0</td>\n",
       "      <td>3.0</td>\n",
       "      <td>1</td>\n",
       "    </tr>\n",
       "    <tr>\n",
       "      <th>1</th>\n",
       "      <td>363.0</td>\n",
       "      <td>7.0</td>\n",
       "      <td>3</td>\n",
       "    </tr>\n",
       "    <tr>\n",
       "      <th>2</th>\n",
       "      <td>1189.0</td>\n",
       "      <td>7.0</td>\n",
       "      <td>0</td>\n",
       "    </tr>\n",
       "    <tr>\n",
       "      <th>3</th>\n",
       "      <td>1130.0</td>\n",
       "      <td>7.0</td>\n",
       "      <td>3</td>\n",
       "    </tr>\n",
       "    <tr>\n",
       "      <th>4</th>\n",
       "      <td>519.0</td>\n",
       "      <td>7.0</td>\n",
       "      <td>3</td>\n",
       "    </tr>\n",
       "  </tbody>\n",
       "</table>\n",
       "</div>"
      ],
      "text/plain": [
       "   Budget  Category  cluster\n",
       "0  1785.0       3.0        1\n",
       "1   363.0       7.0        3\n",
       "2  1189.0       7.0        0\n",
       "3  1130.0       7.0        3\n",
       "4   519.0       7.0        3"
      ]
     },
     "execution_count": 177,
     "metadata": {},
     "output_type": "execute_result"
    }
   ],
   "source": [
    "clusters2=pd.concat([df4, pd.DataFrame({'cluster': labels})], axis=1)\n",
    "clusters2.head()"
   ]
  },
  {
   "cell_type": "code",
   "execution_count": 178,
   "metadata": {},
   "outputs": [
    {
     "data": {
      "image/png": "[encoded data removed]",
      "text/plain": [
       "<Figure size 1080x360 with 1 Axes>"
      ]
     },
     "metadata": {
      "needs_background": "light"
     },
     "output_type": "display_data"
    }
   ],
   "source": [
    "(clusters2[['Budget', 'Category', 'cluster']].groupby('cluster').mean().plot.bar(figsize=(15, 5)))\n",
    "plt.title('Bar Plot')\n",
    "plt.xlabel('Cluster #');"
   ]
  },
  {
   "cell_type": "code",
   "execution_count": 179,
   "metadata": {},
   "outputs": [
    {
     "name": "stdout",
     "output_type": "stream",
     "text": [
      "(2682, 2)\n"
     ]
    }
   ],
   "source": [
    "pca= PCA(n_components= 2)\n",
    "\n",
    "pca.fit(normalized_df)\n",
    "pca_features=pca.transform(normalized_df)\n",
    "\n",
    "print(pca_features.shape)\n",
    "\n",
    "pca_df = pd.DataFrame(data=pca_features,columns=['pca1','pca2'])\n",
    "\n",
    "fin_df = pd.concat([pca_df,pd.DataFrame({'cluster':labels})], axis = 1)"
   ]
  },
  {
   "cell_type": "code",
   "execution_count": 180,
   "metadata": {},
   "outputs": [
    {
     "data": {
      "image/png": "[encoded data removed]",
      "text/plain": [
       "<Figure size 1080x720 with 1 Axes>"
      ]
     },
     "metadata": {
      "needs_background": "light"
     },
     "output_type": "display_data"
    }
   ],
   "source": [
    "plt.figure(figsize=(15,10))\n",
    "sns.scatterplot(x='pca1', y='pca2', hue='cluster', data=fin_df, palette=['blue', 'green', 'red', 'yellow'])\n",
    "plt.xlabel('Principal Component 1', fontsize=13)\n",
    "plt.ylabel('Principal Component 2', fontsize=13)\n",
    "plt.show()"
   ]
  },
  {
   "cell_type": "code",
   "execution_count": null,
   "metadata": {},
   "outputs": [],
   "source": []
  }
 ],
 "metadata": {
  "kernelspec": {
   "display_name": "Python 3",
   "language": "python",
   "name": "python3"
  },
  "language_info": {
   "codemirror_mode": {
    "name": "ipython",
    "version": 3
   },
   "file_extension": ".py",
   "mimetype": "text/x-python",
   "name": "python",
   "nbconvert_exporter": "python",
   "pygments_lexer": "ipython3",
   "version": "3.7.3"
  }
 },
 "nbformat": 4,
 "nbformat_minor": 2
}
